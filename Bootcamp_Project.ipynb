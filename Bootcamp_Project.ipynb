{
  "nbformat": 4,
  "nbformat_minor": 0,
  "metadata": {
    "colab": {
      "name": "Bootcamp Project.ipynb",
      "provenance": [],
      "collapsed_sections": []
    },
    "kernelspec": {
      "name": "python3",
      "display_name": "Python 3"
    },
    "language_info": {
      "name": "python"
    }
  },
  "cells": [
    {
      "cell_type": "code",
      "metadata": {
        "colab": {
          "base_uri": "https://localhost:8080/"
        },
        "id": "PgW7cp8NKjRg",
        "outputId": "7d61e127-0361-4430-e67e-dfd624beb7bd"
      },
      "source": [
        "import hashlib\n",
        "\n",
        "ins=input(\"Enter a word here to get its MD5 hash : \")\n",
        "hashing = hashlib.md5(ins.encode())\n",
        "print((\"The MD5 hash is : \") + hashing.hexdigest())\n",
        "\n",
        "\n"
      ],
      "execution_count": 17,
      "outputs": [
        {
          "output_type": "stream",
          "text": [
            "Enter a word here to get its MD5 hash : Hello\n",
            "The MD5 hash is : 8b1a9953c4611296a827abf8c47804d7\n"
          ],
          "name": "stdout"
        }
      ]
    }
  ]
}